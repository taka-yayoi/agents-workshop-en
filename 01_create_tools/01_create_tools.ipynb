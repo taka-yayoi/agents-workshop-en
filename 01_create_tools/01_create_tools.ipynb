{
 "cells": [
  {
   "cell_type": "markdown",
   "metadata": {
    "application/vnd.databricks.v1+cell": {
     "cellMetadata": {},
     "inputWidgets": {},
     "nuid": "e8ec382d-ea66-4c76-96cd-9bdb96a1d007",
     "showTitle": false,
     "tableResultSettingsMap": {},
     "title": ""
    }
   },
   "source": [
    "# Hands-on Lab: Building an Agent System with Databricks\n",
    "\n",
    "**Please use Serverless Compute.**\n",
    "\n",
    "## Part 1 - Design Your First Agent\n",
    "This first agent will follow the workflow of a customer service representative and explain various agent functions.\n",
    "We will focus on processing product returns and go through the specific steps.\n",
    "\n",
    "### 1.1 Create Simple Tools\n",
    "- **SQL Functions**: Create queries to access data important for each step of the return processing workflow.\n",
    "- **Simple Python Functions**: Create and register Python functions to overcome common limitations of language models.\n",
    "\n",
    "### 1.2 Integration with LLM [AI Playground]\n",
    "- Combine the created tools with a language model (LLM) and use them in the AI Playground.\n",
    "\n",
    "### 1.3 Test the Agent [AI Playground]\n",
    "- Ask questions to the agent and observe its responses.\n",
    "- Use MLflow traces to further explore the agent's performance."
   ]
  },
  {
   "cell_type": "code",
   "execution_count": 0,
   "metadata": {
    "application/vnd.databricks.v1+cell": {
     "cellMetadata": {
      "byteLimit": 2048000,
      "rowLimit": 10000
     },
     "inputWidgets": {},
     "nuid": "35172dcd-c3cc-407d-b1f6-07ce65e44fc2",
     "showTitle": true,
     "tableResultSettingsMap": {},
     "title": "Install Libraries"
    }
   },
   "outputs": [],
   "source": [
    "# Install Libraries\n",
    "%pip install -qqqq -U -r requirements.txt\n",
    "# Restart to load packages into the Python environment\n",
    "dbutils.library.restartPython()"
   ]
  },
  {
   "cell_type": "code",
   "execution_count": 0,
   "metadata": {
    "application/vnd.databricks.v1+cell": {
     "cellMetadata": {
      "byteLimit": 2048000,
      "rowLimit": 10000
     },
     "inputWidgets": {},
     "nuid": "8c708277-3ce3-434d-a344-5591e5fe9322",
     "showTitle": false,
     "tableResultSettingsMap": {},
     "title": ""
    }
   },
   "outputs": [],
   "source": [
    "%run ../config"
   ]
  },
  {
   "cell_type": "code",
   "execution_count": 0,
   "metadata": {
    "application/vnd.databricks.v1+cell": {
     "cellMetadata": {
      "byteLimit": 2048000,
      "rowLimit": 10000
     },
     "inputWidgets": {},
     "nuid": "ff3cb9a5-3a52-4065-9553-a45c3d64dc30",
     "showTitle": true,
     "tableResultSettingsMap": {},
     "title": "Parameter Settings"
    }
   },
   "outputs": [],
   "source": [
    "# Parameter Settings\n",
    "from databricks.sdk import WorkspaceClient\n",
    "import os\n",
    "import re\n",
    "\n",
    "# Get information about the current user using the workspace client\n",
    "w = WorkspaceClient()\n",
    "user_email = w.current_user.me().emails[0].value\n",
    "username = user_email.split('@')[0]\n",
    "username = re.sub(r'[^a-zA-Z0-9_]', '_', username) # Replace special characters with underscores\n",
    "\n",
    "# Specify schema\n",
    "user_schema_name = f\"agents_lab_{username}\" # Per-user schema\n",
    "\n",
    "print(\"Your catalog is:\", catalog_name)\n",
    "print(\"Your schema is:\", user_schema_name)\n",
    "\n",
    "# Create schema\n",
    "spark.sql(f\"CREATE SCHEMA IF NOT EXISTS {catalog_name}.{user_schema_name}\")"
   ]
  },
  {
   "cell_type": "markdown",
   "metadata": {
    "application/vnd.databricks.v1+cell": {
     "cellMetadata": {},
     "inputWidgets": {},
     "nuid": "61f820a9-7da6-4127-b8bb-cf2b6daeeed3",
     "showTitle": false,
     "tableResultSettingsMap": {},
     "title": ""
    }
   },
   "source": [
    "# Customer Service Return Processing Workflow\n",
    "\n",
    "Below is a structured overview of the main steps that a customer service representative typically follows when **processing a return**. This workflow ensures consistency and clarity across the support team.\n",
    "\n",
    "---\n",
    "\n",
    "## 1. Retrieve the Latest Return in the Processing Queue\n",
    "- **Action**: Identify and retrieve the latest return request from the ticketing or return system.  \n",
    "- **Reason**: Ensures you are addressing the most urgent or next-in-line customer issue.\n",
    "\n",
    "---"
   ]
  },
  {
   "cell_type": "code",
   "execution_count": 0,
   "metadata": {
    "application/vnd.databricks.v1+cell": {
     "cellMetadata": {
      "byteLimit": 2048000,
      "implicitDf": true,
      "rowLimit": 10000
     },
     "inputWidgets": {},
     "nuid": "b6117c3c-bb15-42bb-a8cf-4b4d4baa44fc",
     "showTitle": false,
     "tableResultSettingsMap": {},
     "title": ""
    }
   },
   "outputs": [],
   "source": [
    "# Display catalog name\n",
    "query = f\"SELECT '{catalog_name}' as catalog_name\"\n",
    "df = spark.sql(query)\n",
    "display(df)"
   ]
  },
  {
   "cell_type": "code",
   "execution_count": 0,
   "metadata": {
    "application/vnd.databricks.v1+cell": {
     "cellMetadata": {
      "byteLimit": 2048000,
      "implicitDf": true,
      "rowLimit": 10000
     },
     "inputWidgets": {},
     "nuid": "6d2f6718-4637-41d9-a5c7-6c5c27d89d19",
     "showTitle": true,
     "tableResultSettingsMap": {},
     "title": "Retrieve Latest Return in Processing Queue"
    }
   },
   "outputs": [],
   "source": [
    "# Retrieve Latest Return in Processing Queue\n",
    "# Retrieve the latest return\n",
    "query = (\n",
    "    f\"SELECT \"\n",
    "    f\"  cast(date_time as date) as case_time, \"\n",
    "    f\"  issue_category, \"\n",
    "    f\"  issue_description, \"\n",
    "    f\"  name \"\n",
    "    f\"FROM {catalog_name}.{system_schema_name}.cust_service_data \"\n",
    "    f\"ORDER BY date_time DESC \"\n",
    "    f\"LIMIT 1\"\n",
    ")\n",
    "df = spark.sql(query)\n",
    "display(df)"
   ]
  },
  {
   "cell_type": "code",
   "execution_count": 0,
   "metadata": {
    "application/vnd.databricks.v1+cell": {
     "cellMetadata": {
      "byteLimit": 2048000,
      "implicitDf": true,
      "rowLimit": 10000
     },
     "inputWidgets": {},
     "nuid": "c95e1f14-9bd4-42d9-a746-39e1fab050ac",
     "showTitle": false,
     "tableResultSettingsMap": {},
     "title": ""
    }
   },
   "outputs": [],
   "source": [
    "# Set catalog and schema\n",
    "spark.sql(f\"USE CATALOG {catalog_name}\")\n",
    "spark.sql(f\"USE SCHEMA {system_schema_name}\")"
   ]
  },
  {
   "cell_type": "code",
   "execution_count": 0,
   "metadata": {
    "application/vnd.databricks.v1+cell": {
     "cellMetadata": {
      "byteLimit": 2048000,
      "implicitDf": true,
      "rowLimit": 10000
     },
     "inputWidgets": {},
     "nuid": "3e43986f-f577-44ef-b62c-00bcc05ed261",
     "showTitle": true,
     "tableResultSettingsMap": {},
     "title": "Create Function to Register in Unity Catalog"
    }
   },
   "outputs": [],
   "source": [
    "# Create function to get the latest return\n",
    "query = f'''\n",
    "CREATE OR REPLACE FUNCTION \n",
    "  {catalog_name}.{user_schema_name}.get_latest_return()\n",
    "RETURNS TABLE(purchase_date DATE, issue_category STRING, issue_description STRING, name STRING)\n",
    "COMMENT 'Returns the latest customer service response (such as returns).'\n",
    "RETURN (\n",
    "  SELECT \n",
    "    CAST(date_time AS DATE) AS purchase_date,\n",
    "    issue_category,\n",
    "    issue_description,\n",
    "    name\n",
    "  FROM {catalog_name}.{system_schema_name}.cust_service_data\n",
    "  ORDER BY date_time DESC\n",
    "  LIMIT 1\n",
    ");\n",
    "'''\n",
    "spark.sql(query)"
   ]
  },
  {
   "cell_type": "code",
   "execution_count": 0,
   "metadata": {
    "application/vnd.databricks.v1+cell": {
     "cellMetadata": {
      "byteLimit": 2048000,
      "implicitDf": true,
      "rowLimit": 10000
     },
     "inputWidgets": {},
     "nuid": "8fb701d4-7b17-4a71-9810-daacae824184",
     "showTitle": true,
     "tableResultSettingsMap": {},
     "title": "Test Function to Retrieve Latest Return"
    }
   },
   "outputs": [],
   "source": [
    "# Test the function to get the latest return\n",
    "query = f\"SELECT * FROM {catalog_name}.{user_schema_name}.get_latest_return()\"\n",
    "df = spark.sql(query)\n",
    "display(df)"
   ]
  },
  {
   "cell_type": "markdown",
   "metadata": {
    "application/vnd.databricks.v1+cell": {
     "cellMetadata": {},
     "inputWidgets": {},
     "nuid": "a9cfd2a5-ed00-4f6e-a38e-e75a1da3d27e",
     "showTitle": false,
     "tableResultSettingsMap": {},
     "title": ""
    }
   },
   "source": [
    "---\n",
    "\n",
    "## 2. Retrieve Company Policy\n",
    "- **Action**: Access internal knowledge bases or policy documents regarding returns, refunds, and exchanges.  \n",
    "- **Reason**: Ensures compliance with company guidelines, preventing potential errors or conflicts.\n",
    "\n",
    "---"
   ]
  },
  {
   "cell_type": "code",
   "execution_count": 0,
   "metadata": {
    "application/vnd.databricks.v1+cell": {
     "cellMetadata": {
      "byteLimit": 2048000,
      "implicitDf": true,
      "rowLimit": 10000
     },
     "inputWidgets": {},
     "nuid": "c97a54c5-279f-4650-a9da-e290cf7db777",
     "showTitle": true,
     "tableResultSettingsMap": {},
     "title": "Create Function to Retrieve Return Policy"
    }
   },
   "outputs": [],
   "source": [
    "# Create function to retrieve return policy\n",
    "query = f'''\n",
    "CREATE OR REPLACE FUNCTION\n",
    "  {catalog_name}.{user_schema_name}.get_return_policy()\n",
    "RETURNS TABLE (\n",
    "  policy           STRING,\n",
    "  policy_details   STRING,\n",
    "  last_updated     DATE\n",
    ")\n",
    "COMMENT 'Returns details of the return policy.'\n",
    "LANGUAGE SQL\n",
    "RETURN (\n",
    "  SELECT\n",
    "    policy,\n",
    "    policy_details,\n",
    "    last_updated\n",
    "  FROM {catalog_name}.{system_schema_name}.policies\n",
    "  WHERE policy = 'Return Policy'\n",
    "  LIMIT 1\n",
    ");\n",
    "'''\n",
    "spark.sql(query)"
   ]
  },
  {
   "cell_type": "code",
   "execution_count": 0,
   "metadata": {
    "application/vnd.databricks.v1+cell": {
     "cellMetadata": {
      "byteLimit": 2048000,
      "implicitDf": true,
      "rowLimit": 10000
     },
     "inputWidgets": {},
     "nuid": "02a3182e-1979-4b5e-9f2d-2d1ecaf74f6c",
     "showTitle": true,
     "tableResultSettingsMap": {
      "0": {
       "dataGridStateBlob": "{\"version\":1,\"tableState\":{\"columnPinning\":{\"left\":[\"#row_number#\"],\"right\":[]},\"columnSizing\":{\"#row_number#\":53},\"columnVisibility\":{}},\"settings\":{\"columns\":{}},\"syncTimestamp\":1754382268561}",
       "filterBlob": null,
       "queryPlanFiltersBlob": null,
       "tableResultIndex": 0
      }
     },
     "title": "Test Function to Retrieve Return Policy"
    }
   },
   "outputs": [],
   "source": [
    "# Test Function to Retrieve Return Policy\n",
    "query = f\"SELECT * FROM {catalog_name}.{user_schema_name}.get_return_policy()\"\n",
    "df = spark.sql(query)\n",
    "display(df)"
   ]
  },
  {
   "cell_type": "markdown",
   "metadata": {
    "application/vnd.databricks.v1+cell": {
     "cellMetadata": {},
     "inputWidgets": {},
     "nuid": "b27b8d8e-77ce-4cbd-8b56-99cb1a8500b8",
     "showTitle": false,
     "tableResultSettingsMap": {},
     "title": ""
    }
   },
   "source": [
    "---\n",
    "\n",
    "## 3. Retrieve the UserID of the Latest Return\n",
    "- **Action**: Record the unique identifier of the user from the return request details.  \n",
    "- **Reason**: Efficiently process and avoid confusion in customer records by referencing the correct user data.\n",
    "\n",
    "---"
   ]
  },
  {
   "cell_type": "code",
   "execution_count": 0,
   "metadata": {
    "application/vnd.databricks.v1+cell": {
     "cellMetadata": {
      "byteLimit": 2048000,
      "implicitDf": true,
      "rowLimit": 10000
     },
     "inputWidgets": {},
     "nuid": "21553c9a-0be6-4f3d-bfe0-3de3087edc7d",
     "showTitle": true,
     "tableResultSettingsMap": {},
     "title": "Create Function to Retrieve UserID Based on Name"
    }
   },
   "outputs": [],
   "source": [
    "# Create Function to Retrieve UserID Based on Name\n",
    "query = f'''\n",
    "CREATE OR REPLACE FUNCTION\n",
    "  {catalog_name}.{user_schema_name}.get_user_id(user_name STRING)\n",
    "RETURNS STRING\n",
    "COMMENT 'This function takes the customer name as input and returns the corresponding user ID.'\n",
    "LANGUAGE SQL\n",
    "RETURN \n",
    "SELECT customer_id \n",
    "FROM {catalog_name}.{system_schema_name}.cust_service_data \n",
    "WHERE name = user_name\n",
    "LIMIT 1\n",
    ";\n",
    "'''\n",
    "spark.sql(query)"
   ]
  },
  {
   "cell_type": "code",
   "execution_count": 0,
   "metadata": {
    "application/vnd.databricks.v1+cell": {
     "cellMetadata": {
      "byteLimit": 2048000,
      "implicitDf": true,
      "rowLimit": 10000
     },
     "inputWidgets": {},
     "nuid": "356f772f-cf09-448e-9de5-323b8ea5ec64",
     "showTitle": true,
     "tableResultSettingsMap": {},
     "title": "est the function to retrieve userID based on name"
    }
   },
   "outputs": [],
   "source": [
    "# Test Function to Retrieve UserID Based on Name\n",
    "user_name = \"Nicolas Pelaez\"\n",
    "query = f\"SELECT {catalog_name}.{user_schema_name}.get_user_id('{user_name}') as user_id\"\n",
    "df = spark.sql(query)\n",
    "display(df)"
   ]
  },
  {
   "cell_type": "markdown",
   "metadata": {
    "application/vnd.databricks.v1+cell": {
     "cellMetadata": {},
     "inputWidgets": {},
     "nuid": "b68a3810-d1ea-4746-90bd-03d45d68bc42",
     "showTitle": false,
     "tableResultSettingsMap": {},
     "title": ""
    }
   },
   "source": [
    "---\n",
    "\n",
    "## 4. Query Order History Using UserID\n",
    "- **Action**: Search the order management system or customer database using the UserID.  \n",
    "- **Reason**: By checking past purchase history, return trends, and special notes, you can determine the appropriate next steps (e.g., eligibility for return).\n",
    "\n",
    "---"
   ]
  },
  {
   "cell_type": "code",
   "execution_count": 0,
   "metadata": {
    "application/vnd.databricks.v1+cell": {
     "cellMetadata": {
      "byteLimit": 2048000,
      "implicitDf": true,
      "rowLimit": 10000
     },
     "inputWidgets": {},
     "nuid": "38ae83ee-8a7d-4088-845f-a2c79771ef5a",
     "showTitle": true,
     "tableResultSettingsMap": {},
     "title": "Create function to retrieve order history based on userID"
    }
   },
   "outputs": [],
   "source": [
    "# Create function to retrieve order history based on userID\n",
    "query = f'''\n",
    "CREATE OR REPLACE FUNCTION\n",
    "  {catalog_name}.{user_schema_name}.get_order_history(user_id STRING)\n",
    "RETURNS TABLE (returns_last_12_months INT, issue_category STRING)\n",
    "COMMENT 'This function takes the customer user_id as input and returns the number of returns and issue categories for the past 12 months.'\n",
    "LANGUAGE SQL\n",
    "RETURN \n",
    "SELECT count(*) as returns_last_12_months, issue_category \n",
    "FROM {catalog_name}.{system_schema_name}.cust_service_data \n",
    "WHERE customer_id = user_id \n",
    "GROUP BY issue_category;\n",
    "'''\n",
    "spark.sql(query)"
   ]
  },
  {
   "cell_type": "code",
   "execution_count": 0,
   "metadata": {
    "application/vnd.databricks.v1+cell": {
     "cellMetadata": {
      "byteLimit": 2048000,
      "implicitDf": true,
      "rowLimit": 10000
     },
     "inputWidgets": {},
     "nuid": "fd4a571e-5663-4644-91fc-e9ef770eaad7",
     "showTitle": true,
     "tableResultSettingsMap": {},
     "title": "Test the function to retrieve order history based on userID"
    }
   },
   "outputs": [],
   "source": [
    "# Test Function to Retrieve Order History Based on UserID\n",
    "user_id = \"453e50e0-232e-44ea-9fe3-28d550be6294\"\n",
    "query = f\"SELECT * FROM {catalog_name}.{user_schema_name}.get_order_history('{user_id}')\"\n",
    "df = spark.sql(query)\n",
    "display(df)"
   ]
  },
  {
   "cell_type": "markdown",
   "metadata": {
    "application/vnd.databricks.v1+cell": {
     "cellMetadata": {},
     "inputWidgets": {},
     "nuid": "52c9654c-fe8c-4186-8996-23c489d6bbe6",
     "showTitle": false,
     "tableResultSettingsMap": {},
     "title": ""
    }
   },
   "source": [
    "---\n",
    "\n",
    "## 5. Provide a Python Function to LLM to Get Today's Date\n",
    "- **Action**: Prepare a **Python function** that can provide the current date to the LLM (Large Language Model).  \n",
    "- **Reason**: Automatically obtaining the date makes it easier to manage scheduling pickups, refund timelines, and contact deadlines.\n",
    "\n",
    "###### Note: By using functions registered with System.ai.python_exec, you can execute code generated by the LLM in a sandboxed environment.\n",
    "---"
   ]
  },
  {
   "cell_type": "code",
   "execution_count": 0,
   "metadata": {
    "application/vnd.databricks.v1+cell": {
     "cellMetadata": {
      "byteLimit": 2048000,
      "rowLimit": 10000
     },
     "inputWidgets": {},
     "nuid": "a4c102c2-339b-4a7b-a760-d6623b337bdc",
     "showTitle": true,
     "tableResultSettingsMap": {},
     "title": "Very Simple Python Function"
    }
   },
   "outputs": [],
   "source": [
    "# Very Simple Python Function\n",
    "def get_todays_date() -> str:\n",
    "    \"\"\"\n",
    "    Returns today's date in 'YYYY-MM-DD' format.\n",
    "\n",
    "    Returns:\n",
    "        str: Returns today's date in 'YYYY-MM-DD' format.\n",
    "    \"\"\"\n",
    "    from datetime import datetime\n",
    "    return datetime.now().strftime(\"%Y-%m-%d\")"
   ]
  },
  {
   "cell_type": "code",
   "execution_count": 0,
   "metadata": {
    "application/vnd.databricks.v1+cell": {
     "cellMetadata": {
      "byteLimit": 2048000,
      "rowLimit": 10000
     },
     "inputWidgets": {},
     "nuid": "71932239-8cbf-4f4d-a7b9-caa5730ea906",
     "showTitle": true,
     "tableResultSettingsMap": {},
     "title": "Test Python Function"
    }
   },
   "outputs": [],
   "source": [
    "# Test Python Function\n",
    "today = get_todays_date()\n",
    "today"
   ]
  },
  {
   "cell_type": "code",
   "execution_count": 0,
   "metadata": {
    "application/vnd.databricks.v1+cell": {
     "cellMetadata": {
      "byteLimit": 2048000,
      "rowLimit": 10000
     },
     "inputWidgets": {},
     "nuid": "85c03cfb-71c4-4fab-ab37-bea0681bbace",
     "showTitle": true,
     "tableResultSettingsMap": {},
     "title": "Register Python Function in Unity Catalog"
    }
   },
   "outputs": [],
   "source": [
    "# Register Python Function in Unity Catalog\n",
    "from unitycatalog.ai.core.databricks import DatabricksFunctionClient\n",
    "\n",
    "client = DatabricksFunctionClient()\n",
    "\n",
    "# Deploy this tool to UC, and automatically set UC metadata based on the tool's docstring and type hints\n",
    "python_tool_uc_info = client.create_python_function(func=get_todays_date, catalog=catalog_name, schema=user_schema_name, replace=True)\n",
    "\n",
    "# The tool is deployed as a function named `{catalog}.{schema}.{func}` in UC. Here, {func} is the function name\n",
    "# Display the deployed Unity Catalog function name\n",
    "display(f\"Deployed Unity Catalog function name: {python_tool_uc_info.full_name}\")"
   ]
  },
  {
   "cell_type": "code",
   "execution_count": 0,
   "metadata": {
    "application/vnd.databricks.v1+cell": {
     "cellMetadata": {
      "byteLimit": 2048000,
      "rowLimit": 10000
     },
     "inputWidgets": {},
     "nuid": "571190a0-b107-446c-b170-0f9b0a161544",
     "showTitle": true,
     "tableResultSettingsMap": {},
     "title": "View Created Function"
    }
   },
   "outputs": [],
   "source": [
    "# View Created Function\n",
    "from IPython.display import display, HTML\n",
    "\n",
    "# Get Databricks workspace host URL\n",
    "workspace_url = spark.conf.get('spark.databricks.workspaceUrl')\n",
    "\n",
    "# Create HTML link to the created function\n",
    "html_link = f'<a href=\"https://{workspace_url}/explore/data/functions/{catalog_name}/{user_schema_name}/get_todays_date\" target=\"_blank\">Check the registered function in Unity Catalog</a>'\n",
    "display(HTML(html_link))"
   ]
  },
  {
   "cell_type": "markdown",
   "metadata": {
    "application/vnd.databricks.v1+cell": {
     "cellMetadata": {},
     "inputWidgets": {},
     "nuid": "3f99d12d-9be1-4464-a8bd-3533735e8220",
     "showTitle": false,
     "tableResultSettingsMap": {},
     "title": ""
    }
   },
   "source": [
    "## Now, let's see how to assemble the first agent using these functions in the AI Playground!\n",
    "\n",
    "- **System Prompt**: `Call tools until you are confident that all internal policies are satisfied.`\n",
    "- **Example Question**: `Based on our company policy, should we accept the latest return?`\n",
    "\n",
    "### You can find the AI Playground from \"AI/ML\" in the left navigation bar, or use the link created below."
   ]
  },
  {
   "cell_type": "code",
   "execution_count": 0,
   "metadata": {
    "application/vnd.databricks.v1+cell": {
     "cellMetadata": {
      "byteLimit": 2048000,
      "rowLimit": 10000
     },
     "inputWidgets": {},
     "nuid": "23fbc931-edc2-4e94-b9c4-6f1569b92e1d",
     "showTitle": true,
     "tableResultSettingsMap": {},
     "title": "Create HTML link to AI Playground"
    }
   },
   "outputs": [],
   "source": [
    "# Create HTML link to AI Playground\n",
    "html_link = f'<a href=\"https://{workspace_url}/ml/playground\" target=\"_blank\">Go to AI Playground</a>'\n",
    "display(HTML(html_link))"
   ]
  }
 ],
 "metadata": {
  "application/vnd.databricks.v1+notebook": {
   "computePreferences": {
    "hardware": {
     "accelerator": null,
     "gpuPoolId": null,
     "memory": null
    }
   },
   "dashboards": [],
   "environmentMetadata": {
    "base_environment": "",
    "environment_version": "1"
   },
   "inputWidgetPreferences": null,
   "language": "python",
   "notebookMetadata": {
    "mostRecentlyExecutedCommandWithImplicitDF": {
     "commandId": -1,
     "dataframes": [
      "_sqldf"
     ]
    },
    "pythonIndentUnit": 2
   },
   "notebookName": "01_create_tools",
   "widgets": {}
  },
  "language_info": {
   "name": "python"
  }
 },
 "nbformat": 4,
 "nbformat_minor": 0
}
