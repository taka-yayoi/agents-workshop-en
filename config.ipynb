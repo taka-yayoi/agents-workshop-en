{
 "cells": [
  {
   "cell_type": "code",
   "execution_count": 0,
   "metadata": {
    "application/vnd.databricks.v1+cell": {
     "cellMetadata": {},
     "inputWidgets": {},
     "nuid": "971db396-3b49-447a-b646-10e5eeaf0d98",
     "showTitle": false,
     "tableResultSettingsMap": {},
     "title": ""
    }
   },
   "outputs": [],
   "source": [
    "# Specify the catalog\n",
    "catalog_name = \"handson_catalog\"\n",
    "#catalog_name = \"takaakiyayoi_catalog\"\n",
    "\n",
    "# Specify the schema for VS used in the hands-on\n",
    "system_schema_name = \"agents_lab_en\"\n",
    "\n",
    "print(f\"Catalog used for hands-on: {catalog_name}\")\n",
    "print(f\"Shared schema used for hands-on (for storing data): {system_schema_name}\")"
   ]
  }
 ],
 "metadata": {
  "application/vnd.databricks.v1+notebook": {
   "computePreferences": null,
   "dashboards": [],
   "environmentMetadata": {
    "base_environment": "",
    "environment_version": "2"
   },
   "inputWidgetPreferences": null,
   "language": "python",
   "notebookMetadata": {
    "pythonIndentUnit": 2
   },
   "notebookName": "config",
   "widgets": {}
  },
  "language_info": {
   "name": "python"
  }
 },
 "nbformat": 4,
 "nbformat_minor": 0
}
